{
 "cells": [
  {
   "cell_type": "code",
   "execution_count": 29,
   "id": "0fe5dbcc",
   "metadata": {},
   "outputs": [
    {
     "data": {
      "text/html": [
       "<div>\n",
       "<style scoped>\n",
       "    .dataframe tbody tr th:only-of-type {\n",
       "        vertical-align: middle;\n",
       "    }\n",
       "\n",
       "    .dataframe tbody tr th {\n",
       "        vertical-align: top;\n",
       "    }\n",
       "\n",
       "    .dataframe thead th {\n",
       "        text-align: right;\n",
       "    }\n",
       "</style>\n",
       "<table border=\"1\" class=\"dataframe\">\n",
       "  <thead>\n",
       "    <tr style=\"text-align: right;\">\n",
       "      <th></th>\n",
       "      <th>invoice_no</th>\n",
       "      <th>customer_id</th>\n",
       "      <th>category</th>\n",
       "      <th>quantity</th>\n",
       "      <th>price</th>\n",
       "      <th>payment_method</th>\n",
       "      <th>invoice_date</th>\n",
       "      <th>shopping_mall</th>\n",
       "    </tr>\n",
       "  </thead>\n",
       "  <tbody>\n",
       "    <tr>\n",
       "      <th>0</th>\n",
       "      <td>I138884</td>\n",
       "      <td>229</td>\n",
       "      <td>Clothing</td>\n",
       "      <td>5</td>\n",
       "      <td>1500.40</td>\n",
       "      <td>Credit Card</td>\n",
       "      <td>5/8/2022</td>\n",
       "      <td>Kanyon</td>\n",
       "    </tr>\n",
       "    <tr>\n",
       "      <th>1</th>\n",
       "      <td>I317333</td>\n",
       "      <td>3433</td>\n",
       "      <td>Shoes</td>\n",
       "      <td>3</td>\n",
       "      <td>1800.51</td>\n",
       "      <td>Debit Card</td>\n",
       "      <td>12/12/2021</td>\n",
       "      <td>Forum Istanbul</td>\n",
       "    </tr>\n",
       "    <tr>\n",
       "      <th>2</th>\n",
       "      <td>I127801</td>\n",
       "      <td>644</td>\n",
       "      <td>Clothing</td>\n",
       "      <td>1</td>\n",
       "      <td>300.08</td>\n",
       "      <td>Cash</td>\n",
       "      <td>9/11/2021</td>\n",
       "      <td>Metrocity</td>\n",
       "    </tr>\n",
       "    <tr>\n",
       "      <th>3</th>\n",
       "      <td>I173702</td>\n",
       "      <td>4900</td>\n",
       "      <td>Shoes</td>\n",
       "      <td>5</td>\n",
       "      <td>3000.85</td>\n",
       "      <td>Credit Card</td>\n",
       "      <td>16/05/2021</td>\n",
       "      <td>Metropol AVM</td>\n",
       "    </tr>\n",
       "    <tr>\n",
       "      <th>4</th>\n",
       "      <td>I337046</td>\n",
       "      <td>1089</td>\n",
       "      <td>Books</td>\n",
       "      <td>4</td>\n",
       "      <td>60.60</td>\n",
       "      <td>Cash</td>\n",
       "      <td>24/10/2021</td>\n",
       "      <td>Kanyon</td>\n",
       "    </tr>\n",
       "    <tr>\n",
       "      <th>...</th>\n",
       "      <td>...</td>\n",
       "      <td>...</td>\n",
       "      <td>...</td>\n",
       "      <td>...</td>\n",
       "      <td>...</td>\n",
       "      <td>...</td>\n",
       "      <td>...</td>\n",
       "      <td>...</td>\n",
       "    </tr>\n",
       "    <tr>\n",
       "      <th>99452</th>\n",
       "      <td>I219422</td>\n",
       "      <td>2344</td>\n",
       "      <td>Souvenir</td>\n",
       "      <td>5</td>\n",
       "      <td>58.65</td>\n",
       "      <td>Credit Card</td>\n",
       "      <td>21/09/2022</td>\n",
       "      <td>Kanyon</td>\n",
       "    </tr>\n",
       "    <tr>\n",
       "      <th>99453</th>\n",
       "      <td>I325143</td>\n",
       "      <td>172</td>\n",
       "      <td>Food &amp; Beverage</td>\n",
       "      <td>2</td>\n",
       "      <td>10.46</td>\n",
       "      <td>Cash</td>\n",
       "      <td>22/09/2021</td>\n",
       "      <td>Forum Istanbul</td>\n",
       "    </tr>\n",
       "    <tr>\n",
       "      <th>99454</th>\n",
       "      <td>I824010</td>\n",
       "      <td>425</td>\n",
       "      <td>Food &amp; Beverage</td>\n",
       "      <td>2</td>\n",
       "      <td>10.46</td>\n",
       "      <td>Debit Card</td>\n",
       "      <td>28/03/2021</td>\n",
       "      <td>Metrocity</td>\n",
       "    </tr>\n",
       "    <tr>\n",
       "      <th>99455</th>\n",
       "      <td>I702964</td>\n",
       "      <td>577</td>\n",
       "      <td>Technology</td>\n",
       "      <td>4</td>\n",
       "      <td>4200.00</td>\n",
       "      <td>Cash</td>\n",
       "      <td>16/03/2021</td>\n",
       "      <td>Istinye Park</td>\n",
       "    </tr>\n",
       "    <tr>\n",
       "      <th>99456</th>\n",
       "      <td>I232867</td>\n",
       "      <td>30</td>\n",
       "      <td>Souvenir</td>\n",
       "      <td>3</td>\n",
       "      <td>35.19</td>\n",
       "      <td>Credit Card</td>\n",
       "      <td>15/10/2022</td>\n",
       "      <td>Mall of Istanbul</td>\n",
       "    </tr>\n",
       "  </tbody>\n",
       "</table>\n",
       "<p>99457 rows × 8 columns</p>\n",
       "</div>"
      ],
      "text/plain": [
       "      invoice_no  customer_id         category  quantity    price  \\\n",
       "0        I138884          229         Clothing         5  1500.40   \n",
       "1        I317333         3433            Shoes         3  1800.51   \n",
       "2        I127801          644         Clothing         1   300.08   \n",
       "3        I173702         4900            Shoes         5  3000.85   \n",
       "4        I337046         1089            Books         4    60.60   \n",
       "...          ...          ...              ...       ...      ...   \n",
       "99452    I219422         2344         Souvenir         5    58.65   \n",
       "99453    I325143          172  Food & Beverage         2    10.46   \n",
       "99454    I824010          425  Food & Beverage         2    10.46   \n",
       "99455    I702964          577       Technology         4  4200.00   \n",
       "99456    I232867           30         Souvenir         3    35.19   \n",
       "\n",
       "      payment_method invoice_date     shopping_mall  \n",
       "0        Credit Card     5/8/2022            Kanyon  \n",
       "1         Debit Card   12/12/2021    Forum Istanbul  \n",
       "2               Cash    9/11/2021         Metrocity  \n",
       "3        Credit Card   16/05/2021      Metropol AVM  \n",
       "4               Cash   24/10/2021            Kanyon  \n",
       "...              ...          ...               ...  \n",
       "99452    Credit Card   21/09/2022            Kanyon  \n",
       "99453           Cash   22/09/2021    Forum Istanbul  \n",
       "99454     Debit Card   28/03/2021         Metrocity  \n",
       "99455           Cash   16/03/2021      Istinye Park  \n",
       "99456    Credit Card   15/10/2022  Mall of Istanbul  \n",
       "\n",
       "[99457 rows x 8 columns]"
      ]
     },
     "execution_count": 29,
     "metadata": {},
     "output_type": "execute_result"
    }
   ],
   "source": [
    "import pandas as pd\n",
    "\n",
    "df1=pd.read_csv(\"fct_invoice.csv\")\n",
    "df1"
   ]
  },
  {
   "cell_type": "code",
   "execution_count": 28,
   "id": "5c580d58",
   "metadata": {
    "scrolled": true
   },
   "outputs": [
    {
     "data": {
      "text/html": [
       "<div>\n",
       "<style scoped>\n",
       "    .dataframe tbody tr th:only-of-type {\n",
       "        vertical-align: middle;\n",
       "    }\n",
       "\n",
       "    .dataframe tbody tr th {\n",
       "        vertical-align: top;\n",
       "    }\n",
       "\n",
       "    .dataframe thead th {\n",
       "        text-align: right;\n",
       "    }\n",
       "</style>\n",
       "<table border=\"1\" class=\"dataframe\">\n",
       "  <thead>\n",
       "    <tr style=\"text-align: right;\">\n",
       "      <th></th>\n",
       "      <th>age</th>\n",
       "      <th>first_name</th>\n",
       "      <th>gender</th>\n",
       "      <th>id</th>\n",
       "      <th>last_name</th>\n",
       "    </tr>\n",
       "  </thead>\n",
       "  <tbody>\n",
       "    <tr>\n",
       "      <th>0</th>\n",
       "      <td>48.0</td>\n",
       "      <td>Nicholas</td>\n",
       "      <td>M</td>\n",
       "      <td>0</td>\n",
       "      <td>Flores</td>\n",
       "    </tr>\n",
       "    <tr>\n",
       "      <th>1</th>\n",
       "      <td>NaN</td>\n",
       "      <td>Jeffery</td>\n",
       "      <td>M</td>\n",
       "      <td>1</td>\n",
       "      <td>Rowe</td>\n",
       "    </tr>\n",
       "    <tr>\n",
       "      <th>2</th>\n",
       "      <td>57.0</td>\n",
       "      <td>Alexis</td>\n",
       "      <td>F</td>\n",
       "      <td>2</td>\n",
       "      <td>Benton</td>\n",
       "    </tr>\n",
       "    <tr>\n",
       "      <th>3</th>\n",
       "      <td>73.0</td>\n",
       "      <td>Amy</td>\n",
       "      <td>F</td>\n",
       "      <td>3</td>\n",
       "      <td>Johnson</td>\n",
       "    </tr>\n",
       "    <tr>\n",
       "      <th>4</th>\n",
       "      <td>20.0</td>\n",
       "      <td>David</td>\n",
       "      <td>M</td>\n",
       "      <td>4</td>\n",
       "      <td>Moore</td>\n",
       "    </tr>\n",
       "    <tr>\n",
       "      <th>...</th>\n",
       "      <td>...</td>\n",
       "      <td>...</td>\n",
       "      <td>...</td>\n",
       "      <td>...</td>\n",
       "      <td>...</td>\n",
       "    </tr>\n",
       "    <tr>\n",
       "      <th>5186</th>\n",
       "      <td>NaN</td>\n",
       "      <td>Arthur</td>\n",
       "      <td>M</td>\n",
       "      <td>9428</td>\n",
       "      <td>Harris</td>\n",
       "    </tr>\n",
       "    <tr>\n",
       "      <th>5187</th>\n",
       "      <td>NaN</td>\n",
       "      <td>David</td>\n",
       "      <td>M</td>\n",
       "      <td>9494</td>\n",
       "      <td>Roy</td>\n",
       "    </tr>\n",
       "    <tr>\n",
       "      <th>5188</th>\n",
       "      <td>85.0</td>\n",
       "      <td>Thomas</td>\n",
       "      <td>M</td>\n",
       "      <td>10350</td>\n",
       "      <td>Turner</td>\n",
       "    </tr>\n",
       "    <tr>\n",
       "      <th>5189</th>\n",
       "      <td>NaN</td>\n",
       "      <td>April</td>\n",
       "      <td>F</td>\n",
       "      <td>10587</td>\n",
       "      <td>Sanchez</td>\n",
       "    </tr>\n",
       "    <tr>\n",
       "      <th>5190</th>\n",
       "      <td>NaN</td>\n",
       "      <td>Andrew</td>\n",
       "      <td>M</td>\n",
       "      <td>10934</td>\n",
       "      <td>Compton</td>\n",
       "    </tr>\n",
       "  </tbody>\n",
       "</table>\n",
       "<p>5191 rows × 5 columns</p>\n",
       "</div>"
      ],
      "text/plain": [
       "       age first_name gender     id last_name\n",
       "0     48.0   Nicholas      M      0    Flores\n",
       "1      NaN    Jeffery      M      1      Rowe\n",
       "2     57.0     Alexis      F      2    Benton\n",
       "3     73.0        Amy      F      3   Johnson\n",
       "4     20.0      David      M      4     Moore\n",
       "...    ...        ...    ...    ...       ...\n",
       "5186   NaN     Arthur      M   9428    Harris\n",
       "5187   NaN      David      M   9494       Roy\n",
       "5188  85.0     Thomas      M  10350    Turner\n",
       "5189   NaN      April      F  10587   Sanchez\n",
       "5190   NaN     Andrew      M  10934   Compton\n",
       "\n",
       "[5191 rows x 5 columns]"
      ]
     },
     "execution_count": 28,
     "metadata": {},
     "output_type": "execute_result"
    }
   ],
   "source": [
    "df2 = pd.read_json('dim_customer.json')\n",
    "df2"
   ]
  },
  {
   "cell_type": "code",
   "execution_count": 146,
   "id": "f3d5ff79",
   "metadata": {},
   "outputs": [
    {
     "name": "stdout",
     "output_type": "stream",
     "text": [
      "Easy, 1: Number of unique customers in the data set\n",
      " \n",
      "5191\n"
     ]
    }
   ],
   "source": [
    "print(\"Easy, 1: Number of unique customers in the data set\")\n",
    "print(\" \")\n",
    "\n",
    "print(df2[\"id\"].nunique())"
   ]
  },
  {
   "cell_type": "code",
   "execution_count": 144,
   "id": "04d7c678",
   "metadata": {},
   "outputs": [
    {
     "name": "stdout",
     "output_type": "stream",
     "text": [
      "Easy, 2: Categories of products available and number of unique categories\n",
      " \n",
      "['Clothing' 'Shoes' 'Books' 'Cosmetics' 'Food & Beverage' 'Toys'\n",
      " 'Technology' 'Souvenir']\n",
      "8\n"
     ]
    }
   ],
   "source": [
    "print(\"Easy, 2: Categories of products available and number of unique categories\")\n",
    "print(\" \")\n",
    "\n",
    "print(df1[\"category\"].unique())\n",
    "print(df1[\"category\"].nunique())"
   ]
  },
  {
   "cell_type": "code",
   "execution_count": 142,
   "id": "fb4b1dc5",
   "metadata": {},
   "outputs": [
    {
     "name": "stdout",
     "output_type": "stream",
     "text": [
      "Easy, 3: Most popular payment method and how many times was it used\n"
     ]
    },
    {
     "data": {
      "text/plain": [
       "Cash    44447\n",
       "Name: payment_method, dtype: int64"
      ]
     },
     "execution_count": 142,
     "metadata": {},
     "output_type": "execute_result"
    }
   ],
   "source": [
    "print(\"Easy, 3: Most popular payment method and how many times was it used\") \n",
    "\n",
    "popular_payment_method = df1[\"payment_method\"].value_counts()\n",
    "popular_payment_method.head(1)"
   ]
  },
  {
   "cell_type": "code",
   "execution_count": 20,
   "id": "e9655f42",
   "metadata": {},
   "outputs": [
    {
     "name": "stdout",
     "output_type": "stream",
     "text": [
      "Medium, 1: Three most popular categories by total sales\n"
     ]
    },
    {
     "data": {
      "text/plain": [
       "category\n",
       "Books        8.345529e+05\n",
       "Clothing     1.139968e+08\n",
       "Cosmetics    6.792863e+06\n",
       "Name: sales, dtype: float64"
      ]
     },
     "execution_count": 20,
     "metadata": {},
     "output_type": "execute_result"
    }
   ],
   "source": [
    "print(\"Medium, 1: Three most popular categories by total sales\")\n",
    "\n",
    "df1["sales"] = df1["quantity"] * df1["price"]\n",
    "grouped=df1.groupby('category')['sales'].sum()\n",
    "grouped.nlargest(3)"
   ]
  },
  {
   "cell_type": "code",
   "execution_count": 292,
   "id": "075c2714",
   "metadata": {
    "scrolled": true
   },
   "outputs": [
    {
     "name": "stdout",
     "output_type": "stream",
     "text": [
      "Medium, 2: Total sales attributed to customers over 45\n",
      " \n",
      "82039768.15\n"
     ]
    }
   ],
   "source": [
    "print(\"Medium, 2: Total sales attributed to customers over 45\")\n",
    "print(\" \")\n",
    "\n",
    "merged = pd.merge(df1,df2,left_on =\"customer_id\", right_on=\"id\")\n",
    "merged[\"sales\"] = merged[\"quantity\"] * merged[\"price\"]\n",
    "print(merged[merged[\"age\"] > 45][\"sales\"].sum())"
   ]
  },
  {
   "cell_type": "code",
   "execution_count": 312,
   "id": "b1403dec",
   "metadata": {},
   "outputs": [
    {
     "name": "stdout",
     "output_type": "stream",
     "text": [
      "Medium, 3: How data is distributed accross invoice dates, and seasonal trends & patterns\n",
      "Sales in 2021 and 2022 follow a similar path of ups and downs. Sales tend to be lowest around February, June, Sepember and November, and highest around July, October and January. Sales for 2023 are still incomplete.\n"
     ]
    },
    {
     "data": {
      "text/plain": [
       "<Axes: xlabel='month'>"
      ]
     },
     "execution_count": 312,
     "metadata": {},
     "output_type": "execute_result"
    },
    {
     "data": {
      "image/png": "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\n",
      "text/plain": [
       "<Figure size 640x480 with 1 Axes>"
      ]
     },
     "metadata": {},
     "output_type": "display_data"
    }
   ],
   "source": [
    "print(\"Medium, 3: How data is distributed accross invoice dates, and seasonal trends & patterns\")\n",
    "print(\"Sales in 2021 and 2022 follow a similar path of ups and downs. Sales tend to be lowest around February, June, Sepember and November, and highest around July, October and January. Sales for 2023 are still incomplete.\")\n",
    "\n",
    "merged[\"invoice_date\"] = pd.to_datetime(merged[\"invoice_date\"], format=\"%d/%m/%Y\")\n",
    "merged[\"year\"] = merged[\"invoice_date\"].dt.year\n",
    "merged[\"month\"] = merged[\"invoice_date\"].dt.month\n",
    "monthly_sales = merged.groupby(['year', 'month'])['sales'].sum()\n",
    "monthly_sales = monthly_sales.unstack(level=0)\n",
    "monthly_sales.plot(kind='line')"
   ]
  },
  {
   "cell_type": "code",
   "execution_count": 289,
   "id": "7b71af40",
   "metadata": {},
   "outputs": [
    {
     "name": "stdout",
     "output_type": "stream",
     "text": [
      "Hard, 1: Pivot table showing breakdown of sales across: category, decade age range\n",
      " \n",
      "category     Books     Clothing  Cosmetics  Food & Beverage       Shoes  \\\n",
      "range                                                                     \n",
      "[10, 20)  12801.75   1927413.84  109619.36         13582.31   993281.35   \n",
      "[20, 30)  79461.75  10250732.80  605915.32         73491.96  5924878.24   \n",
      "[30, 40)  84143.10  11354126.96  723544.70         87246.86  7200839.66   \n",
      "[40, 50)  87203.40  11215189.92  665034.96         89553.29  7025590.02   \n",
      "[50, 60)  74962.20  10321851.76  587780.96         72425.04  5852857.84   \n",
      "[60, 70)  80476.80  10660642.08  649990.76         80976.09  5978893.54   \n",
      "[70, 80)  54827.85   7769371.28  419082.62         55050.98  4480269.05   \n",
      "[80, 90)  26664.00   4493698.00  254531.60         31332.93  2628744.60   \n",
      "\n",
      "category  Souvenir  Technology       Toys  \n",
      "range                                      \n",
      "[10, 20)  12375.15   1129800.0   60426.24  \n",
      "[20, 30)  54943.32   5261550.0  385100.80  \n",
      "[30, 40)  64092.72   6159300.0  420582.40  \n",
      "[40, 50)  66391.80   5954550.0  390906.88  \n",
      "[50, 60)  54943.32   4435200.0  345067.52  \n",
      "[60, 70)  55025.43   5471550.0  363955.20  \n",
      "[70, 80)  38673.81   3638250.0  273244.16  \n",
      "[80, 90)  23718.06   1946700.0  153932.80  \n"
     ]
    }
   ],
   "source": [
    "print(\"Hard, 1: Pivot table showing breakdown of sales across: category, decade age range\")\n",
    "print(\" \")\n",
    "\n",
    "merged[\"range\"]= pd.cut(merged[\"age\"], bins=range(10,91,10), right=False)\n",
    "table = pd.pivot_table(merged, index=\"range\", columns=\"category\", values=\"sales\", aggfunc =\"sum\")\n",
    "print(table)"
   ]
  }
 ],
 "metadata": {
  "kernelspec": {
   "display_name": "Python 3 (ipykernel)",
   "language": "python",
   "name": "python3"
  },
  "language_info": {
   "codemirror_mode": {
    "name": "ipython",
    "version": 3
   },
   "file_extension": ".py",
   "mimetype": "text/x-python",
   "name": "python",
   "nbconvert_exporter": "python",
   "pygments_lexer": "ipython3",
   "version": "3.10.9"
  }
 },
 "nbformat": 4,
 "nbformat_minor": 5
}
